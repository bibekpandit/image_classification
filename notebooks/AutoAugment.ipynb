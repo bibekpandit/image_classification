{
 "cells": [
  {
   "cell_type": "code",
   "execution_count": 76,
   "metadata": {},
   "outputs": [],
   "source": [
    "%reload_ext autoreload\n",
    "%autoreload 2\n",
    "%matplotlib inline\n",
    "from PIL import Image, ImageEnhance, ImageOps\n",
    "import numpy as np\n",
    "import matplotlib.pyplot as plt\n",
    "import math\n",
    "import random\n",
    "import pdb\n",
    "from autoaugment import ImageNetPolicy, CIFAR10Policy, SVHNPolicy, SubPolicy\n",
    "from collections import defaultdict\n",
    "import os\n",
    "from matplotlib.pyplot import imshow"
   ]
  },
  {
   "cell_type": "code",
   "execution_count": 77,
   "metadata": {},
   "outputs": [],
   "source": [
    "policy = ImageNetPolicy()"
   ]
  },
  {
   "cell_type": "code",
   "execution_count": null,
   "metadata": {},
   "outputs": [],
   "source": []
  },
  {
   "cell_type": "code",
   "execution_count": 1,
   "metadata": {},
   "outputs": [],
   "source": [
    "def getAugmentedImages(original_image_path, no_of_aug_images=8):\n",
    "    \"\"\"\n",
    "    Produce auto-augmented images for the images at original_image_path\n",
    "    \n",
    "    Args:\n",
    "        original_image_path : string path to an image\n",
    "        no_of_aug_images : number of augmented images to generate\n",
    "    \"\"\"\n",
    "    original_image = Image.open(original_image_path)\n",
    "    \n",
    "    # ImageNetPolicy() cannot augment \"RGBA\" types so we convert it to \"RGB\" before passing into ImageNetPolicy()\n",
    "    if original_image.mode == \"RGBA\":\n",
    "        original_image.load()\n",
    "        new = Image.new(\"RGB\", original_image.size, (255, 255, 255))\n",
    "        new.paste(original_image, mask=original_image.split()[3])\n",
    "        original_image = new\n",
    "    \n",
    "    imgs = []\n",
    "    for _ in range(no_of_aug_images): \n",
    "        try:\n",
    "            imgs.append(policy(original_image))\n",
    "        except: # various kinds of errors due to ImageNetPolicy() API itself while generating a certain kind of image\n",
    "            print(\"Some error encountered\")\n",
    "            continue\n",
    "    return imgs"
   ]
  },
  {
   "cell_type": "code",
   "execution_count": 79,
   "metadata": {},
   "outputs": [],
   "source": [
    "def augmentMultipleLabels(dict_labels_to_photos, n_images_per_label = 400):\n",
    "    \"\"\"\n",
    "    Get augmented images for all the images in different labels and store them in the provided\n",
    "    dictionary\n",
    "    \n",
    "    Args:\n",
    "        dict_settings_to_photos : a dictionary of labels mapping to dictionaries whose keys are the paths to images\n",
    "                                  in that setting and whose value is currently set to none, to be replaced by\n",
    "                                  a list containing augmented images of the key image. \n",
    "                                  Ex: d = {\"cat\":{\"data/train/cat/0.jpg\" : None, \n",
    "                                                  \"data/train/cat/1.jpg\" : None},\n",
    "                                           \"dog\":{\"data/train/dog/43.jpg\" : None}}\n",
    "                                  None will be later replced by a list of PIL image types\n",
    "        n_images_per_setting : total number of images approx available to a setting after augmentation\n",
    "    \"\"\"\n",
    "    for setting in dict_settings_to_photos:\n",
    "        no_photos_in_setting = len(dict_settings_to_photos[setting])\n",
    "        no_aug_per_image = math.ceil((n_images_per_setting - no_photos_in_setting)/no_photos_in_setting)\n",
    "        \n",
    "        for image in dict_settings_to_photos[setting]:\n",
    "            # setting None value to list of augmented images\n",
    "            dict_settings_to_photos[setting][image] = getAugmentedImages(image, int(no_aug_per_image))"
   ]
  },
  {
   "cell_type": "code",
   "execution_count": 80,
   "metadata": {},
   "outputs": [],
   "source": [
    "def saveImages(rootdir, root_name, images):\n",
    "    \"\"\"\n",
    "    Save a list of images into the rootdir with the images having prefix root_name\n",
    "    \n",
    "    Args:\n",
    "        rootdir : directory where the images should be saved\n",
    "        root_name : prefix of the image name\n",
    "        images : list of image files that should be saved\n",
    "    \"\"\"\n",
    "    for i, image in enumerate(images):\n",
    "        image_name = \"{0}_{1}.jpg\".format(root_name, i)\n",
    "        img_path = os.path.join(rootdir, image_name)\n",
    "        image.save(img_path)"
   ]
  },
  {
   "cell_type": "code",
   "execution_count": 81,
   "metadata": {},
   "outputs": [],
   "source": [
    "common_img_extensions = {'.tif', '.tiff', '.gif', '.jpeg', '.jpg', '.jif', '.jfif',\n",
    "                         '.jp2', '.jpx', '.j2k', '.j2c', '.fpx', '.pcd', '.png'}"
   ]
  },
  {
   "cell_type": "code",
   "execution_count": 2,
   "metadata": {},
   "outputs": [],
   "source": [
    "def makeAugmented(directory, classes):\n",
    "    \"\"\"\n",
    "    Create auto-augmented images of all the images in a directory\n",
    "    \n",
    "    Args:\n",
    "        directory : string path to the directory containing the folders (folders represent labels) that contain\n",
    "                    the images to augment\n",
    "        classes : list of labels on whose images auto-augmentation is to be performed\n",
    "    \"\"\"\n",
    "    # aug is a JSON type dict mapping settings to images (images maps to list of augmented images)\n",
    "    \n",
    "    aug = defaultdict(dict)\n",
    "    for root,_,files in os.walk(directory):\n",
    "        for f in files:\n",
    "            # check if file is an image type\n",
    "            extension = os.path.splitext(f)[1]\n",
    "            if not extension in common_img_extensions:\n",
    "                continue\n",
    "            \n",
    "            label = os.path.split(root)[-1] # from path, get the folder name (setting)\n",
    "            if label in classes:\n",
    "                ffull = os.path.join(root,f)\n",
    "                if label not in aug:\n",
    "                    aug[label] = {}\n",
    "                aug[label][ffull] = None\n",
    "    \n",
    "    # once aug has all the settings and their corresponding images, we need to generate the augmented images\n",
    "    # for each of those images\n",
    "    \n",
    "    augmentMultipleSettings(aug, no_aug_per_setting = 200)\n",
    "    \n",
    "    # path to directory where all the augmented images will be stored\n",
    "    augment_dir = os.path.join(directory, \"augment\")\n",
    "    if not os.path.exists(augment_dir):\n",
    "        os.makedirs(augment_dir)\n",
    "    \n",
    "    # store all the augmented images in augment directory which further contains directories like \"cat\" and \"dog\"\n",
    "    for label in aug:\n",
    "        # label directory inside augment directory\n",
    "        aug_label_dir = os.path.join(augment_dir, label)\n",
    "        if not os.path.exists(aug_label_dir):\n",
    "            os.makedirs(aug_label_dir)\n",
    "        \n",
    "        for image in aug[label]:\n",
    "            image_id = os.path.splitext(os.path.split(image)[-1])[0] # image = \"Users/dave/1.jpg\" gives image_id = \"1\"\n",
    "            saveImages(aug_label_dir, image_id, aug[label][image])\n",
    "    \n",
    "\n",
    "        "
   ]
  },
  {
   "cell_type": "code",
   "execution_count": 83,
   "metadata": {},
   "outputs": [],
   "source": [
    "directory = \"data/train\"\n",
    "classes = ['cat', 'dog', 'rabbit']"
   ]
  },
  {
   "cell_type": "code",
   "execution_count": null,
   "metadata": {},
   "outputs": [],
   "source": [
    "makeAugmented(directory, classes)"
   ]
  },
  {
   "cell_type": "code",
   "execution_count": null,
   "metadata": {},
   "outputs": [],
   "source": []
  },
  {
   "cell_type": "code",
   "execution_count": null,
   "metadata": {},
   "outputs": [],
   "source": []
  }
 ],
 "metadata": {
  "kernelspec": {
   "display_name": "Python 3",
   "language": "python",
   "name": "python3"
  },
  "language_info": {
   "codemirror_mode": {
    "name": "ipython",
    "version": 3
   },
   "file_extension": ".py",
   "mimetype": "text/x-python",
   "name": "python",
   "nbconvert_exporter": "python",
   "pygments_lexer": "ipython3",
   "version": "3.6.5"
  }
 },
 "nbformat": 4,
 "nbformat_minor": 2
}
